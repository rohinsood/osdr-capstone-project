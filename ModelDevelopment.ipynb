{
 "cells": [
  {
   "attachments": {},
   "cell_type": "markdown",
   "metadata": {},
   "source": [
    "# Model Development"
   ]
  },
  {
   "cell_type": "code",
   "execution_count": 25,
   "metadata": {},
   "outputs": [],
   "source": [
    "import pandas as pd\n",
    "from sklearn.model_selection import train_test_split\n",
    "from sklearn.feature_selection import RFE\n",
    "from sklearn.tree import DecisionTreeRegressor\n",
    "from sklearn.preprocessing import StandardScaler\n",
    "from sklearn.neural_network import MLPRegressor\n",
    "from sklearn.linear_model import LinearRegression\n",
    "from sklearn.ensemble import RandomForestRegressor\n",
    "from sklearn.metrics import mean_squared_error\n",
    "import matplotlib.pyplot as plt\n",
    "from sklearn.metrics import mean_squared_error, r2_score, mean_absolute_error\n",
    "import numpy as np"
   ]
  },
  {
   "cell_type": "code",
   "execution_count": 36,
   "metadata": {},
   "outputs": [
    {
     "data": {
      "text/plain": [
       "['th_positive_cells', 'repo_glial_cells']"
      ]
     },
     "execution_count": 36,
     "metadata": {},
     "output_type": "execute_result"
    }
   ],
   "source": [
    "df = pd.read_csv(\"filtered_data.csv\")\n",
    "results_df = pd.DataFrame(columns=['Model', 'Target Variable', 'MSE', 'RMSE', 'MAE', 'R2', 'R', 'Selected Features'])\n",
    "df.drop(columns=df.columns[0], inplace=True)\n",
    "target_columns = df.columns[-2:].to_list()\n",
    "target_columns"
   ]
  },
  {
   "cell_type": "code",
   "execution_count": 37,
   "metadata": {},
   "outputs": [
    {
     "data": {
      "text/html": [
       "<div>\n",
       "<style scoped>\n",
       "    .dataframe tbody tr th:only-of-type {\n",
       "        vertical-align: middle;\n",
       "    }\n",
       "\n",
       "    .dataframe tbody tr th {\n",
       "        vertical-align: top;\n",
       "    }\n",
       "\n",
       "    .dataframe thead th {\n",
       "        text-align: right;\n",
       "    }\n",
       "</style>\n",
       "<table border=\"1\" class=\"dataframe\">\n",
       "  <thead>\n",
       "    <tr style=\"text-align: right;\">\n",
       "      <th></th>\n",
       "      <th>th_positive_cells</th>\n",
       "      <th>repo_glial_cells</th>\n",
       "    </tr>\n",
       "  </thead>\n",
       "  <tbody>\n",
       "    <tr>\n",
       "      <th>count</th>\n",
       "      <td>24.000</td>\n",
       "      <td>24.000</td>\n",
       "    </tr>\n",
       "    <tr>\n",
       "      <th>mean</th>\n",
       "      <td>93.330</td>\n",
       "      <td>479.387</td>\n",
       "    </tr>\n",
       "    <tr>\n",
       "      <th>std</th>\n",
       "      <td>16.667</td>\n",
       "      <td>126.027</td>\n",
       "    </tr>\n",
       "    <tr>\n",
       "      <th>min</th>\n",
       "      <td>51.000</td>\n",
       "      <td>276.000</td>\n",
       "    </tr>\n",
       "    <tr>\n",
       "      <th>25%</th>\n",
       "      <td>83.750</td>\n",
       "      <td>397.750</td>\n",
       "    </tr>\n",
       "    <tr>\n",
       "      <th>50%</th>\n",
       "      <td>95.500</td>\n",
       "      <td>455.000</td>\n",
       "    </tr>\n",
       "    <tr>\n",
       "      <th>75%</th>\n",
       "      <td>103.500</td>\n",
       "      <td>537.250</td>\n",
       "    </tr>\n",
       "    <tr>\n",
       "      <th>max</th>\n",
       "      <td>120.000</td>\n",
       "      <td>792.000</td>\n",
       "    </tr>\n",
       "  </tbody>\n",
       "</table>\n",
       "</div>"
      ],
      "text/plain": [
       "       th_positive_cells  repo_glial_cells\n",
       "count             24.000            24.000\n",
       "mean              93.330           479.387\n",
       "std               16.667           126.027\n",
       "min               51.000           276.000\n",
       "25%               83.750           397.750\n",
       "50%               95.500           455.000\n",
       "75%              103.500           537.250\n",
       "max              120.000           792.000"
      ]
     },
     "execution_count": 37,
     "metadata": {},
     "output_type": "execute_result"
    }
   ],
   "source": [
    "target_variables = df[target_columns]\n",
    "target_variables.describe()"
   ]
  },
  {
   "cell_type": "code",
   "execution_count": 28,
   "metadata": {},
   "outputs": [],
   "source": [
    "def train_MLP_and_store_results(data, target_column, n_features=50):\n",
    "    # Prepare the dataset\n",
    "    X = data.drop(columns=[target_column])\n",
    "    y = data[target_column]\n",
    "    \n",
    "    # Split the dataset into training and testing sets\n",
    "    X_train, X_test, y_train, y_test = train_test_split(X, y, test_size=0.2, random_state=42)\n",
    "    \n",
    "    # Feature selection using RFE\n",
    "    selector = RFE(estimator=DecisionTreeRegressor(), n_features_to_select=n_features, step=10)\n",
    "    selector = selector.fit(X_train, y_train)\n",
    "    \n",
    "    # Select the important features\n",
    "    X_train_selected = selector.transform(X_train)\n",
    "    X_test_selected = selector.transform(X_test)\n",
    "    \n",
    "    # Scale the features\n",
    "    scaler = StandardScaler()\n",
    "    X_train_scaled = scaler.fit_transform(X_train_selected)\n",
    "    X_test_scaled = scaler.transform(X_test_selected)\n",
    "    \n",
    "    # Build and train the MLP model\n",
    "    mlp = MLPRegressor(hidden_layer_sizes=(64, 32, 16), max_iter=200, random_state=42)\n",
    "    mlp.fit(X_train_scaled, y_train)\n",
    "    \n",
    "    # Evaluate the model\n",
    "    y_pred = mlp.predict(X_test_scaled)\n",
    "    mse = mean_squared_error(y_test, y_pred)\n",
    "    rmse = np.sqrt(mse)\n",
    "    mae = mean_absolute_error(y_test, y_pred)\n",
    "    r2 = r2_score(y_test, y_pred)\n",
    "    r = np.sqrt(r2)\n",
    "    \n",
    "    # Get the selected feature names\n",
    "    selected_features = X.columns[selector.support_]\n",
    "    \n",
    "    # Store the results in the DataFrame\n",
    "    results_df.loc[len(results_df)] = [\"ANN\", target_column, mse, rmse, mae, r2, r, ','.join(selected_features)]"
   ]
  },
  {
   "cell_type": "code",
   "execution_count": 29,
   "metadata": {},
   "outputs": [],
   "source": [
    "def train_LR_and_store_results(data, target_column, n_features=50):\n",
    "    # Prepare the dataset\n",
    "    X = data.drop(columns=[target_column])\n",
    "    y = data[target_column]\n",
    "    \n",
    "    # Split the dataset into training and testing sets\n",
    "    X_train, X_test, y_train, y_test = train_test_split(X, y, test_size=0.2, random_state=42)\n",
    "    \n",
    "    # Feature selection using RFE\n",
    "    selector = RFE(estimator=DecisionTreeRegressor(), n_features_to_select=n_features, step=10)\n",
    "    selector = selector.fit(X_train, y_train)\n",
    "    \n",
    "    # Select the important features\n",
    "    X_train_selected = selector.transform(X_train)\n",
    "    X_test_selected = selector.transform(X_test)\n",
    "    \n",
    "    # Scale the features\n",
    "    scaler = StandardScaler()\n",
    "    X_train_scaled = scaler.fit_transform(X_train_selected)\n",
    "    X_test_scaled = scaler.transform(X_test_selected)\n",
    "    \n",
    "    # Build and train the Linear Regression model\n",
    "    lr = LinearRegression()\n",
    "    lr.fit(X_train_scaled, y_train)\n",
    "    \n",
    "    # Evaluate the model\n",
    "    y_pred = lr.predict(X_test_scaled)\n",
    "    mse = mean_squared_error(y_test, y_pred)\n",
    "    rmse = np.sqrt(mse)\n",
    "    mae = mean_absolute_error(y_test, y_pred)\n",
    "    r2 = r2_score(y_test, y_pred)\n",
    "    r = np.sqrt(r2)\n",
    "    \n",
    "    # Get the selected feature names\n",
    "    selected_features = X.columns[selector.support_]\n",
    "    \n",
    "    # Store the results in the DataFrame\n",
    "    results_df.loc[len(results_df)] = [\"Linear Regression\", target_column, mse, rmse, mae, r2, r, ','.join(selected_features)]\n"
   ]
  },
  {
   "cell_type": "code",
   "execution_count": 30,
   "metadata": {},
   "outputs": [],
   "source": [
    "# Function to train and evaluate a Random Forest model\n",
    "def train_RF_and_store_results(data, target_column, n_features=50):\n",
    "    # Prepare the dataset\n",
    "    X = data.drop(columns=[target_column])\n",
    "    y = data[target_column]\n",
    "    \n",
    "    # Split the dataset into training and testing sets\n",
    "    X_train, X_test, y_train, y_test = train_test_split(X, y, test_size=0.2, random_state=42)\n",
    "    \n",
    "    # Feature selection using RFE\n",
    "    selector = RFE(estimator=DecisionTreeRegressor(), n_features_to_select=n_features, step=10)\n",
    "    selector = selector.fit(X_train, y_train)\n",
    "    \n",
    "    # Select the important features\n",
    "    X_train_selected = selector.transform(X_train)\n",
    "    X_test_selected = selector.transform(X_test)\n",
    "    \n",
    "    # Scale the features\n",
    "    scaler = StandardScaler()\n",
    "    X_train_scaled = scaler.fit_transform(X_train_selected)\n",
    "    X_test_scaled = scaler.transform(X_test_selected)\n",
    "    \n",
    "    # Build and train the Random Forest model\n",
    "    rf = RandomForestRegressor(n_estimators=100, random_state=42)\n",
    "    rf.fit(X_train_scaled, y_train)\n",
    "    \n",
    "    # Evaluate the model\n",
    "    y_pred = rf.predict(X_test_scaled)\n",
    "    mse = mean_squared_error(y_test, y_pred)\n",
    "    rmse = np.sqrt(mse)\n",
    "    mae = mean_absolute_error(y_test, y_pred)\n",
    "    r2 = r2_score(y_test, y_pred)\n",
    "    r = np.sqrt(r2)\n",
    "    \n",
    "    # Get the selected feature names\n",
    "    selected_features = X.columns[selector.support_]\n",
    "    \n",
    "    # Store the results in the DataFrame\n",
    "    results_df.loc[len(results_df)] = [\"Random Forest\", target_column, mse, rmse, mae, r2, r, ','.join(selected_features)]"
   ]
  },
  {
   "cell_type": "code",
   "execution_count": 38,
   "metadata": {},
   "outputs": [
    {
     "name": "stdout",
     "output_type": "stream",
     "text": [
      "Training MLP for th_positive_cells...\n"
     ]
    },
    {
     "name": "stderr",
     "output_type": "stream",
     "text": [
      "/home/rohinsood/.local/lib/python3.10/site-packages/sklearn/neural_network/_multilayer_perceptron.py:691: ConvergenceWarning: Stochastic Optimizer: Maximum iterations (200) reached and the optimization hasn't converged yet.\n",
      "  warnings.warn(\n",
      "/tmp/ipykernel_1437/172558715.py:32: RuntimeWarning: invalid value encountered in sqrt\n",
      "  r = np.sqrt(r2)\n"
     ]
    },
    {
     "name": "stdout",
     "output_type": "stream",
     "text": [
      "Training Linear Regression for th_positive_cells...\n"
     ]
    },
    {
     "name": "stderr",
     "output_type": "stream",
     "text": [
      "/tmp/ipykernel_1437/1024327637.py:32: RuntimeWarning: invalid value encountered in sqrt\n",
      "  r = np.sqrt(r2)\n"
     ]
    },
    {
     "name": "stdout",
     "output_type": "stream",
     "text": [
      "Training Random Forest for th_positive_cells...\n"
     ]
    },
    {
     "name": "stderr",
     "output_type": "stream",
     "text": [
      "/tmp/ipykernel_1437/3630538396.py:33: RuntimeWarning: invalid value encountered in sqrt\n",
      "  r = np.sqrt(r2)\n"
     ]
    },
    {
     "name": "stdout",
     "output_type": "stream",
     "text": [
      "Training MLP for repo_glial_cells...\n"
     ]
    },
    {
     "name": "stderr",
     "output_type": "stream",
     "text": [
      "/home/rohinsood/.local/lib/python3.10/site-packages/sklearn/neural_network/_multilayer_perceptron.py:691: ConvergenceWarning: Stochastic Optimizer: Maximum iterations (200) reached and the optimization hasn't converged yet.\n",
      "  warnings.warn(\n",
      "/tmp/ipykernel_1437/172558715.py:32: RuntimeWarning: invalid value encountered in sqrt\n",
      "  r = np.sqrt(r2)\n"
     ]
    },
    {
     "name": "stdout",
     "output_type": "stream",
     "text": [
      "Training Linear Regression for repo_glial_cells...\n"
     ]
    },
    {
     "name": "stderr",
     "output_type": "stream",
     "text": [
      "/tmp/ipykernel_1437/1024327637.py:32: RuntimeWarning: invalid value encountered in sqrt\n",
      "  r = np.sqrt(r2)\n"
     ]
    },
    {
     "name": "stdout",
     "output_type": "stream",
     "text": [
      "Training Random Forest for repo_glial_cells...\n"
     ]
    },
    {
     "name": "stderr",
     "output_type": "stream",
     "text": [
      "/tmp/ipykernel_1437/3630538396.py:33: RuntimeWarning: invalid value encountered in sqrt\n",
      "  r = np.sqrt(r2)\n"
     ]
    }
   ],
   "source": [
    "# Train and evaluate the models\n",
    "for target in target_columns:\n",
    "    print(f\"Training MLP for {target}...\")\n",
    "    train_MLP_and_store_results(df, target)\n",
    "    print(f\"Training Linear Regression for {target}...\")\n",
    "    train_LR_and_store_results(df, target)\n",
    "    print(f\"Training Random Forest for {target}...\")\n",
    "    train_RF_and_store_results(df, target)\n",
    "    \n",
    "results_csv_path = 'model_results.csv'\n",
    "results_df.to_csv(results_csv_path, index=False)"
   ]
  },
  {
   "cell_type": "code",
   "execution_count": 39,
   "metadata": {},
   "outputs": [
    {
     "data": {
      "text/html": [
       "<div>\n",
       "<style scoped>\n",
       "    .dataframe tbody tr th:only-of-type {\n",
       "        vertical-align: middle;\n",
       "    }\n",
       "\n",
       "    .dataframe tbody tr th {\n",
       "        vertical-align: top;\n",
       "    }\n",
       "\n",
       "    .dataframe thead th {\n",
       "        text-align: right;\n",
       "    }\n",
       "</style>\n",
       "<table border=\"1\" class=\"dataframe\">\n",
       "  <thead>\n",
       "    <tr style=\"text-align: right;\">\n",
       "      <th></th>\n",
       "      <th>Model</th>\n",
       "      <th>Target Variable</th>\n",
       "      <th>MSE</th>\n",
       "      <th>RMSE</th>\n",
       "      <th>MAE</th>\n",
       "      <th>R2</th>\n",
       "      <th>R</th>\n",
       "      <th>Selected Features</th>\n",
       "    </tr>\n",
       "  </thead>\n",
       "  <tbody>\n",
       "    <tr>\n",
       "      <th>0</th>\n",
       "      <td>ANN</td>\n",
       "      <td>th_positive_cells</td>\n",
       "      <td>73849.705</td>\n",
       "      <td>271.753</td>\n",
       "      <td>139.293</td>\n",
       "      <td>-619.377</td>\n",
       "      <td>NaN</td>\n",
       "      <td>FBgn0000008,FBgn0000015,FBgn0000032,FBgn000003...</td>\n",
       "    </tr>\n",
       "    <tr>\n",
       "      <th>1</th>\n",
       "      <td>Linear Regression</td>\n",
       "      <td>th_positive_cells</td>\n",
       "      <td>54133.266</td>\n",
       "      <td>232.666</td>\n",
       "      <td>115.032</td>\n",
       "      <td>-453.749</td>\n",
       "      <td>NaN</td>\n",
       "      <td>FBgn0000008,FBgn0000015,FBgn0000018,FBgn000002...</td>\n",
       "    </tr>\n",
       "    <tr>\n",
       "      <th>2</th>\n",
       "      <td>Random Forest</td>\n",
       "      <td>th_positive_cells</td>\n",
       "      <td>315.897</td>\n",
       "      <td>17.773</td>\n",
       "      <td>12.939</td>\n",
       "      <td>-1.654</td>\n",
       "      <td>NaN</td>\n",
       "      <td>FBgn0000017,FBgn0000028,FBgn0000032,FBgn000003...</td>\n",
       "    </tr>\n",
       "    <tr>\n",
       "      <th>3</th>\n",
       "      <td>ANN</td>\n",
       "      <td>repo_glial_cells</td>\n",
       "      <td>204312.137</td>\n",
       "      <td>452.009</td>\n",
       "      <td>330.045</td>\n",
       "      <td>-19.804</td>\n",
       "      <td>NaN</td>\n",
       "      <td>FBgn0000014,FBgn0000036,FBgn0000037,FBgn000004...</td>\n",
       "    </tr>\n",
       "    <tr>\n",
       "      <th>4</th>\n",
       "      <td>Linear Regression</td>\n",
       "      <td>repo_glial_cells</td>\n",
       "      <td>111753.708</td>\n",
       "      <td>334.296</td>\n",
       "      <td>305.097</td>\n",
       "      <td>-10.379</td>\n",
       "      <td>NaN</td>\n",
       "      <td>FBgn0000003,FBgn0000024,FBgn0000032,FBgn000003...</td>\n",
       "    </tr>\n",
       "    <tr>\n",
       "      <th>5</th>\n",
       "      <td>Random Forest</td>\n",
       "      <td>repo_glial_cells</td>\n",
       "      <td>20581.472</td>\n",
       "      <td>143.462</td>\n",
       "      <td>126.950</td>\n",
       "      <td>-1.096</td>\n",
       "      <td>NaN</td>\n",
       "      <td>FBgn0000017,FBgn0000042,FBgn0000044,FBgn000004...</td>\n",
       "    </tr>\n",
       "  </tbody>\n",
       "</table>\n",
       "</div>"
      ],
      "text/plain": [
       "               Model    Target Variable        MSE    RMSE     MAE       R2  \\\n",
       "0                ANN  th_positive_cells  73849.705 271.753 139.293 -619.377   \n",
       "1  Linear Regression  th_positive_cells  54133.266 232.666 115.032 -453.749   \n",
       "2      Random Forest  th_positive_cells    315.897  17.773  12.939   -1.654   \n",
       "3                ANN   repo_glial_cells 204312.137 452.009 330.045  -19.804   \n",
       "4  Linear Regression   repo_glial_cells 111753.708 334.296 305.097  -10.379   \n",
       "5      Random Forest   repo_glial_cells  20581.472 143.462 126.950   -1.096   \n",
       "\n",
       "    R                                  Selected Features  \n",
       "0 NaN  FBgn0000008,FBgn0000015,FBgn0000032,FBgn000003...  \n",
       "1 NaN  FBgn0000008,FBgn0000015,FBgn0000018,FBgn000002...  \n",
       "2 NaN  FBgn0000017,FBgn0000028,FBgn0000032,FBgn000003...  \n",
       "3 NaN  FBgn0000014,FBgn0000036,FBgn0000037,FBgn000004...  \n",
       "4 NaN  FBgn0000003,FBgn0000024,FBgn0000032,FBgn000003...  \n",
       "5 NaN  FBgn0000017,FBgn0000042,FBgn0000044,FBgn000004...  "
      ]
     },
     "execution_count": 39,
     "metadata": {},
     "output_type": "execute_result"
    }
   ],
   "source": [
    "pd.set_option('display.float_format', lambda x: '%.3f' % x)\n",
    "results_df"
   ]
  }
 ],
 "metadata": {
  "kernelspec": {
   "display_name": "Python 3",
   "language": "python",
   "name": "python3"
  },
  "language_info": {
   "codemirror_mode": {
    "name": "ipython",
    "version": 3
   },
   "file_extension": ".py",
   "mimetype": "text/x-python",
   "name": "python",
   "nbconvert_exporter": "python",
   "pygments_lexer": "ipython3",
   "version": "3.10.12"
  },
  "orig_nbformat": 4,
  "vscode": {
   "interpreter": {
    "hash": "767d51c1340bd893661ea55ea3124f6de3c7a262a8b4abca0554b478b1e2ff90"
   }
  }
 },
 "nbformat": 4,
 "nbformat_minor": 2
}
